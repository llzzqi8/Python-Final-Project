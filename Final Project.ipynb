{
 "cells": [
  {
   "cell_type": "markdown",
   "id": "9956b352-a7a8-423f-b69a-fa19e2691e90",
   "metadata": {},
   "source": [
    "# Final Project"
   ]
  },
  {
   "cell_type": "code",
   "execution_count": 1,
   "id": "93099e59-135b-4eb2-b3c0-ee658efec2a8",
   "metadata": {},
   "outputs": [],
   "source": [
    "%load_ext lab_black"
   ]
  },
  {
   "cell_type": "code",
   "execution_count": 4,
   "id": "4d54f87e-198d-4606-823f-a9fe41fb9db5",
   "metadata": {},
   "outputs": [],
   "source": [
    "import jupyterhub\n",
    "import pandas as pd\n",
    "import numpy as np\n",
    "import matplotlib.pyplot as plt\n",
    "import seaborn as sns"
   ]
  },
  {
   "cell_type": "code",
   "execution_count": 8,
   "id": "29e21e76-0d9d-4e29-8097-6c3948ce5ce4",
   "metadata": {},
   "outputs": [
    {
     "data": {
      "text/plain": [
       "<module 'jupyterhub' from '/Users/apple/opt/anaconda3/lib/python3.9/site-packages/jupyterhub/__init__.py'>"
      ]
     },
     "execution_count": 8,
     "metadata": {},
     "output_type": "execute_result"
    }
   ],
   "source": [
    "jupyterhub"
   ]
  },
  {
   "cell_type": "markdown",
   "id": "560533eb-ec39-4fd4-8f82-bf6fa17843a5",
   "metadata": {},
   "source": [
    "### Exploring datasets:"
   ]
  },
  {
   "cell_type": "code",
   "execution_count": 6,
   "id": "919118ad-5274-4035-9a7d-21aa1e28c4c3",
   "metadata": {},
   "outputs": [],
   "source": [
    "locations_df = pd.read_csv(\"Locations.csv\")\n",
    "tanks_df = pd.read_csv(\"Tanks.csv\")\n",
    "Invoices_df = pd.read_csv(\"Invoices.csv\")\n",
    "fuel_level_1_df = pd.read_csv(\"Fuel_Level_Part_1.csv\")\n",
    "fuel_level_2_df = pd.read_csv(\"Fuel_Level_Part_2.csv\")"
   ]
  },
  {
   "cell_type": "markdown",
   "id": "685e9272-5e83-4572-9f4b-2287c3f4fd79",
   "metadata": {},
   "source": [
    "#### Locations.csv"
   ]
  },
  {
   "cell_type": "code",
   "execution_count": 4,
   "id": "275b8a99-6f85-4e2a-8a49-38ecdc005002",
   "metadata": {},
   "outputs": [
    {
     "data": {
      "text/html": [
       "<div>\n",
       "<style scoped>\n",
       "    .dataframe tbody tr th:only-of-type {\n",
       "        vertical-align: middle;\n",
       "    }\n",
       "\n",
       "    .dataframe tbody tr th {\n",
       "        vertical-align: top;\n",
       "    }\n",
       "\n",
       "    .dataframe thead th {\n",
       "        text-align: right;\n",
       "    }\n",
       "</style>\n",
       "<table border=\"1\" class=\"dataframe\">\n",
       "  <thead>\n",
       "    <tr style=\"text-align: right;\">\n",
       "      <th></th>\n",
       "      <th>Gas Station Location</th>\n",
       "      <th>Gas Station Name</th>\n",
       "      <th>Gas Station Address</th>\n",
       "      <th>Gas Station Latitude</th>\n",
       "      <th>Gas Station Longitude</th>\n",
       "    </tr>\n",
       "  </thead>\n",
       "  <tbody>\n",
       "    <tr>\n",
       "      <th>0</th>\n",
       "      <td>1</td>\n",
       "      <td>EastMount</td>\n",
       "      <td>386 Upper Gage Ave, Hamilton, ON L8V 4H9, Canada</td>\n",
       "      <td>43.234670</td>\n",
       "      <td>-79.836510</td>\n",
       "    </tr>\n",
       "    <tr>\n",
       "      <th>1</th>\n",
       "      <td>2</td>\n",
       "      <td>Eastgate</td>\n",
       "      <td>75 Centennial Pkwy N E5, Hamilton, ON L8E 2P2,...</td>\n",
       "      <td>43.230700</td>\n",
       "      <td>-79.763930</td>\n",
       "    </tr>\n",
       "    <tr>\n",
       "      <th>2</th>\n",
       "      <td>3</td>\n",
       "      <td>Central</td>\n",
       "      <td>80 Park St N, Hamilton, ON L8R 2M9, Canada</td>\n",
       "      <td>43.260260</td>\n",
       "      <td>-79.870580</td>\n",
       "    </tr>\n",
       "    <tr>\n",
       "      <th>3</th>\n",
       "      <td>4</td>\n",
       "      <td>Chedoke</td>\n",
       "      <td>16 McMaster Ave, Dundas, ON L9H 0A8, Canada</td>\n",
       "      <td>43.261849</td>\n",
       "      <td>-79.937057</td>\n",
       "    </tr>\n",
       "    <tr>\n",
       "      <th>4</th>\n",
       "      <td>5</td>\n",
       "      <td>Mountain View</td>\n",
       "      <td>985 Scenic Dr, Hamilton, ON L9C 1H7, Canada</td>\n",
       "      <td>43.244910</td>\n",
       "      <td>-79.921850</td>\n",
       "    </tr>\n",
       "  </tbody>\n",
       "</table>\n",
       "</div>"
      ],
      "text/plain": [
       "   Gas Station Location Gas Station Name  \\\n",
       "0                     1        EastMount   \n",
       "1                     2         Eastgate   \n",
       "2                     3          Central   \n",
       "3                     4          Chedoke   \n",
       "4                     5    Mountain View   \n",
       "\n",
       "                                 Gas Station Address  Gas Station Latitude  \\\n",
       "0   386 Upper Gage Ave, Hamilton, ON L8V 4H9, Canada             43.234670   \n",
       "1  75 Centennial Pkwy N E5, Hamilton, ON L8E 2P2,...             43.230700   \n",
       "2         80 Park St N, Hamilton, ON L8R 2M9, Canada             43.260260   \n",
       "3        16 McMaster Ave, Dundas, ON L9H 0A8, Canada             43.261849   \n",
       "4        985 Scenic Dr, Hamilton, ON L9C 1H7, Canada             43.244910   \n",
       "\n",
       "   Gas Station Longitude  \n",
       "0             -79.836510  \n",
       "1             -79.763930  \n",
       "2             -79.870580  \n",
       "3             -79.937057  \n",
       "4             -79.921850  "
      ]
     },
     "execution_count": 4,
     "metadata": {},
     "output_type": "execute_result"
    }
   ],
   "source": [
    "locations_df.head()"
   ]
  },
  {
   "cell_type": "code",
   "execution_count": 5,
   "id": "d71f6c04-4ea6-456b-9930-f8445085d77b",
   "metadata": {},
   "outputs": [
    {
     "name": "stdout",
     "output_type": "stream",
     "text": [
      "<class 'pandas.core.frame.DataFrame'>\n",
      "RangeIndex: 8 entries, 0 to 7\n",
      "Data columns (total 5 columns):\n",
      " #   Column                 Non-Null Count  Dtype  \n",
      "---  ------                 --------------  -----  \n",
      " 0   Gas Station Location   8 non-null      int64  \n",
      " 1   Gas Station Name       8 non-null      object \n",
      " 2   Gas Station Address    8 non-null      object \n",
      " 3   Gas Station Latitude   8 non-null      float64\n",
      " 4   Gas Station Longitude  8 non-null      float64\n",
      "dtypes: float64(2), int64(1), object(2)\n",
      "memory usage: 448.0+ bytes\n"
     ]
    }
   ],
   "source": [
    "locations_df.info()"
   ]
  },
  {
   "cell_type": "code",
   "execution_count": 6,
   "id": "a40411ca-82c4-4137-a365-26ad78977b5d",
   "metadata": {},
   "outputs": [
    {
     "data": {
      "text/plain": [
       "Gas Station Location     0\n",
       "Gas Station Name         0\n",
       "Gas Station Address      0\n",
       "Gas Station Latitude     0\n",
       "Gas Station Longitude    0\n",
       "dtype: int64"
      ]
     },
     "execution_count": 6,
     "metadata": {},
     "output_type": "execute_result"
    }
   ],
   "source": [
    "locations_df.isna().sum()"
   ]
  },
  {
   "cell_type": "markdown",
   "id": "ac3defbd-a04a-401f-ac09-e73bea241e63",
   "metadata": {},
   "source": [
    "#### Tanks.csv"
   ]
  },
  {
   "cell_type": "code",
   "execution_count": 7,
   "id": "c2c67dc8-029c-4e3e-8cd9-5115491c078d",
   "metadata": {},
   "outputs": [
    {
     "data": {
      "text/html": [
       "<div>\n",
       "<style scoped>\n",
       "    .dataframe tbody tr th:only-of-type {\n",
       "        vertical-align: middle;\n",
       "    }\n",
       "\n",
       "    .dataframe tbody tr th {\n",
       "        vertical-align: top;\n",
       "    }\n",
       "\n",
       "    .dataframe thead th {\n",
       "        text-align: right;\n",
       "    }\n",
       "</style>\n",
       "<table border=\"1\" class=\"dataframe\">\n",
       "  <thead>\n",
       "    <tr style=\"text-align: right;\">\n",
       "      <th></th>\n",
       "      <th>Tank ID</th>\n",
       "      <th>Tank Location</th>\n",
       "      <th>Tank Number</th>\n",
       "      <th>Tank Type</th>\n",
       "      <th>Tank Capacity</th>\n",
       "    </tr>\n",
       "  </thead>\n",
       "  <tbody>\n",
       "    <tr>\n",
       "      <th>0</th>\n",
       "      <td>T 10</td>\n",
       "      <td>1</td>\n",
       "      <td>1</td>\n",
       "      <td>U</td>\n",
       "      <td>40000</td>\n",
       "    </tr>\n",
       "    <tr>\n",
       "      <th>1</th>\n",
       "      <td>T 11</td>\n",
       "      <td>1</td>\n",
       "      <td>2</td>\n",
       "      <td>U</td>\n",
       "      <td>40000</td>\n",
       "    </tr>\n",
       "    <tr>\n",
       "      <th>2</th>\n",
       "      <td>T 12</td>\n",
       "      <td>1</td>\n",
       "      <td>3</td>\n",
       "      <td>D</td>\n",
       "      <td>40000</td>\n",
       "    </tr>\n",
       "    <tr>\n",
       "      <th>3</th>\n",
       "      <td>T 13</td>\n",
       "      <td>1</td>\n",
       "      <td>4</td>\n",
       "      <td>P</td>\n",
       "      <td>40000</td>\n",
       "    </tr>\n",
       "    <tr>\n",
       "      <th>4</th>\n",
       "      <td>T 14</td>\n",
       "      <td>1</td>\n",
       "      <td>5</td>\n",
       "      <td>U</td>\n",
       "      <td>40000</td>\n",
       "    </tr>\n",
       "  </tbody>\n",
       "</table>\n",
       "</div>"
      ],
      "text/plain": [
       "  Tank ID  Tank Location  Tank Number Tank Type  Tank Capacity\n",
       "0    T 10              1            1         U          40000\n",
       "1    T 11              1            2         U          40000\n",
       "2    T 12              1            3         D          40000\n",
       "3    T 13              1            4         P          40000\n",
       "4    T 14              1            5         U          40000"
      ]
     },
     "execution_count": 7,
     "metadata": {},
     "output_type": "execute_result"
    }
   ],
   "source": [
    "tanks_df.head()"
   ]
  },
  {
   "cell_type": "code",
   "execution_count": 8,
   "id": "2a8910b1-297e-4301-bc3c-06e233086c67",
   "metadata": {},
   "outputs": [
    {
     "name": "stdout",
     "output_type": "stream",
     "text": [
      "<class 'pandas.core.frame.DataFrame'>\n",
      "RangeIndex: 23 entries, 0 to 22\n",
      "Data columns (total 5 columns):\n",
      " #   Column         Non-Null Count  Dtype \n",
      "---  ------         --------------  ----- \n",
      " 0   Tank ID        23 non-null     object\n",
      " 1   Tank Location  23 non-null     int64 \n",
      " 2   Tank Number    23 non-null     int64 \n",
      " 3   Tank Type      23 non-null     object\n",
      " 4   Tank Capacity  23 non-null     int64 \n",
      "dtypes: int64(3), object(2)\n",
      "memory usage: 1.0+ KB\n"
     ]
    }
   ],
   "source": [
    "tanks_df.info()"
   ]
  },
  {
   "cell_type": "code",
   "execution_count": 9,
   "id": "e372b102-c52d-4028-ac35-6b620c1f80e4",
   "metadata": {},
   "outputs": [
    {
     "data": {
      "text/plain": [
       "Tank ID          0\n",
       "Tank Location    0\n",
       "Tank Number      0\n",
       "Tank Type        0\n",
       "Tank Capacity    0\n",
       "dtype: int64"
      ]
     },
     "execution_count": 9,
     "metadata": {},
     "output_type": "execute_result"
    }
   ],
   "source": [
    "tanks_df.isna().sum()"
   ]
  },
  {
   "cell_type": "markdown",
   "id": "35e2519a-639e-4ca5-8855-8735b2947f1d",
   "metadata": {},
   "source": [
    "#### Invoices.csv"
   ]
  },
  {
   "cell_type": "code",
   "execution_count": 10,
   "id": "edb3da1e-8813-48cf-ac67-bac90dd77f67",
   "metadata": {},
   "outputs": [
    {
     "data": {
      "text/html": [
       "<div>\n",
       "<style scoped>\n",
       "    .dataframe tbody tr th:only-of-type {\n",
       "        vertical-align: middle;\n",
       "    }\n",
       "\n",
       "    .dataframe tbody tr th {\n",
       "        vertical-align: top;\n",
       "    }\n",
       "\n",
       "    .dataframe thead th {\n",
       "        text-align: right;\n",
       "    }\n",
       "</style>\n",
       "<table border=\"1\" class=\"dataframe\">\n",
       "  <thead>\n",
       "    <tr style=\"text-align: right;\">\n",
       "      <th></th>\n",
       "      <th>Invoice Date</th>\n",
       "      <th>Invoice ID</th>\n",
       "      <th>Invoice Gas Station Location</th>\n",
       "      <th>Gross Purchase Cost</th>\n",
       "      <th>Amount Purchased</th>\n",
       "      <th>Fuel Type</th>\n",
       "    </tr>\n",
       "  </thead>\n",
       "  <tbody>\n",
       "    <tr>\n",
       "      <th>0</th>\n",
       "      <td>1/2/2017</td>\n",
       "      <td>10000.0</td>\n",
       "      <td>1</td>\n",
       "      <td>7570.820</td>\n",
       "      <td>6609.600</td>\n",
       "      <td>G</td>\n",
       "    </tr>\n",
       "    <tr>\n",
       "      <th>1</th>\n",
       "      <td>1/2/2017</td>\n",
       "      <td>10001.0</td>\n",
       "      <td>1</td>\n",
       "      <td>12491.853</td>\n",
       "      <td>9338.736</td>\n",
       "      <td>D</td>\n",
       "    </tr>\n",
       "    <tr>\n",
       "      <th>2</th>\n",
       "      <td>1/2/2017</td>\n",
       "      <td>10002.0</td>\n",
       "      <td>1</td>\n",
       "      <td>NaN</td>\n",
       "      <td>NaN</td>\n",
       "      <td>NaN</td>\n",
       "    </tr>\n",
       "    <tr>\n",
       "      <th>3</th>\n",
       "      <td>1/2/2017</td>\n",
       "      <td>10002.0</td>\n",
       "      <td>2</td>\n",
       "      <td>17034.345</td>\n",
       "      <td>13377.824</td>\n",
       "      <td>D</td>\n",
       "    </tr>\n",
       "    <tr>\n",
       "      <th>4</th>\n",
       "      <td>1/2/2017</td>\n",
       "      <td>NaN</td>\n",
       "      <td>2</td>\n",
       "      <td>NaN</td>\n",
       "      <td>NaN</td>\n",
       "      <td>NaN</td>\n",
       "    </tr>\n",
       "  </tbody>\n",
       "</table>\n",
       "</div>"
      ],
      "text/plain": [
       "  Invoice Date  Invoice ID  Invoice Gas Station Location  Gross Purchase Cost  \\\n",
       "0     1/2/2017     10000.0                             1             7570.820   \n",
       "1     1/2/2017     10001.0                             1            12491.853   \n",
       "2     1/2/2017     10002.0                             1                  NaN   \n",
       "3     1/2/2017     10002.0                             2            17034.345   \n",
       "4     1/2/2017         NaN                             2                  NaN   \n",
       "\n",
       "   Amount Purchased Fuel Type  \n",
       "0          6609.600         G  \n",
       "1          9338.736         D  \n",
       "2               NaN       NaN  \n",
       "3         13377.824         D  \n",
       "4               NaN       NaN  "
      ]
     },
     "execution_count": 10,
     "metadata": {},
     "output_type": "execute_result"
    }
   ],
   "source": [
    "Invoices_df.head()"
   ]
  },
  {
   "cell_type": "code",
   "execution_count": 11,
   "id": "d0f82e1c-8620-4bfd-aded-0094816819ee",
   "metadata": {},
   "outputs": [
    {
     "data": {
      "text/plain": [
       "Invoice Date                     0\n",
       "Invoice ID                      41\n",
       "Invoice Gas Station Location     0\n",
       "Gross Purchase Cost             42\n",
       "Amount Purchased                42\n",
       "Fuel Type                       42\n",
       "dtype: int64"
      ]
     },
     "execution_count": 11,
     "metadata": {},
     "output_type": "execute_result"
    }
   ],
   "source": [
    "Invoices_df.isna().sum()"
   ]
  },
  {
   "cell_type": "markdown",
   "id": "6d18fdce-3d7f-4ec7-a423-32889fc66685",
   "metadata": {},
   "source": [
    "#### Fuel_Level_Part_1.csv"
   ]
  },
  {
   "cell_type": "code",
   "execution_count": 12,
   "id": "98d6de00-d69b-464e-8823-aeecb60657dd",
   "metadata": {},
   "outputs": [
    {
     "data": {
      "text/html": [
       "<div>\n",
       "<style scoped>\n",
       "    .dataframe tbody tr th:only-of-type {\n",
       "        vertical-align: middle;\n",
       "    }\n",
       "\n",
       "    .dataframe tbody tr th {\n",
       "        vertical-align: top;\n",
       "    }\n",
       "\n",
       "    .dataframe thead th {\n",
       "        text-align: right;\n",
       "    }\n",
       "</style>\n",
       "<table border=\"1\" class=\"dataframe\">\n",
       "  <thead>\n",
       "    <tr style=\"text-align: right;\">\n",
       "      <th></th>\n",
       "      <th>Tank ID</th>\n",
       "      <th>Fuel Level</th>\n",
       "      <th>Time stamp</th>\n",
       "    </tr>\n",
       "  </thead>\n",
       "  <tbody>\n",
       "    <tr>\n",
       "      <th>0</th>\n",
       "      <td>T 12</td>\n",
       "      <td>27161.0</td>\n",
       "      <td>1/1/2017 0:10</td>\n",
       "    </tr>\n",
       "    <tr>\n",
       "      <th>1</th>\n",
       "      <td>T 12</td>\n",
       "      <td>27017.0</td>\n",
       "      <td>1/1/2017 0:25</td>\n",
       "    </tr>\n",
       "    <tr>\n",
       "      <th>2</th>\n",
       "      <td>T 12</td>\n",
       "      <td>26934.0</td>\n",
       "      <td>1/1/2017 0:40</td>\n",
       "    </tr>\n",
       "    <tr>\n",
       "      <th>3</th>\n",
       "      <td>T12</td>\n",
       "      <td>NaN</td>\n",
       "      <td>1/1/2017 0:45</td>\n",
       "    </tr>\n",
       "    <tr>\n",
       "      <th>4</th>\n",
       "      <td>T 12</td>\n",
       "      <td>26786.0</td>\n",
       "      <td>1/1/2017 0:55</td>\n",
       "    </tr>\n",
       "  </tbody>\n",
       "</table>\n",
       "</div>"
      ],
      "text/plain": [
       "  Tank ID  Fuel Level     Time stamp\n",
       "0    T 12     27161.0  1/1/2017 0:10\n",
       "1    T 12     27017.0  1/1/2017 0:25\n",
       "2    T 12     26934.0  1/1/2017 0:40\n",
       "3     T12         NaN  1/1/2017 0:45\n",
       "4    T 12     26786.0  1/1/2017 0:55"
      ]
     },
     "execution_count": 12,
     "metadata": {},
     "output_type": "execute_result"
    }
   ],
   "source": [
    "fuel_level_1_df.head()"
   ]
  },
  {
   "cell_type": "code",
   "execution_count": 13,
   "id": "7e1adc1d-c191-477b-8854-5394b64530f5",
   "metadata": {},
   "outputs": [
    {
     "data": {
      "text/plain": [
       "Tank ID       0\n",
       "Fuel Level    2\n",
       "Time stamp    0\n",
       "dtype: int64"
      ]
     },
     "execution_count": 13,
     "metadata": {},
     "output_type": "execute_result"
    }
   ],
   "source": [
    "fuel_level_1_df.isna().sum()"
   ]
  },
  {
   "cell_type": "markdown",
   "id": "5e066a20-305b-493e-b2a8-92bca1c88083",
   "metadata": {},
   "source": [
    "#### Fuel_Level_Part_2.csv"
   ]
  },
  {
   "cell_type": "code",
   "execution_count": 14,
   "id": "bb4c326f-8621-46ad-ba83-a6b6246a9c5f",
   "metadata": {},
   "outputs": [
    {
     "data": {
      "text/html": [
       "<div>\n",
       "<style scoped>\n",
       "    .dataframe tbody tr th:only-of-type {\n",
       "        vertical-align: middle;\n",
       "    }\n",
       "\n",
       "    .dataframe tbody tr th {\n",
       "        vertical-align: top;\n",
       "    }\n",
       "\n",
       "    .dataframe thead th {\n",
       "        text-align: right;\n",
       "    }\n",
       "</style>\n",
       "<table border=\"1\" class=\"dataframe\">\n",
       "  <thead>\n",
       "    <tr style=\"text-align: right;\">\n",
       "      <th></th>\n",
       "      <th>Tank ID</th>\n",
       "      <th>Fuel_Level</th>\n",
       "      <th>Timestamp</th>\n",
       "    </tr>\n",
       "  </thead>\n",
       "  <tbody>\n",
       "    <tr>\n",
       "      <th>0</th>\n",
       "      <td>T 32</td>\n",
       "      <td>22327</td>\n",
       "      <td>1/1/2017 0:05</td>\n",
       "    </tr>\n",
       "    <tr>\n",
       "      <th>1</th>\n",
       "      <td>T 20</td>\n",
       "      <td>25215</td>\n",
       "      <td>1/1/2017 0:07</td>\n",
       "    </tr>\n",
       "    <tr>\n",
       "      <th>2</th>\n",
       "      <td>T 10</td>\n",
       "      <td>25700</td>\n",
       "      <td>1/1/2017 0:09</td>\n",
       "    </tr>\n",
       "    <tr>\n",
       "      <th>3</th>\n",
       "      <td>T 11</td>\n",
       "      <td>25685</td>\n",
       "      <td>1/1/2017 0:10</td>\n",
       "    </tr>\n",
       "    <tr>\n",
       "      <th>4</th>\n",
       "      <td>T 14</td>\n",
       "      <td>27138</td>\n",
       "      <td>1/1/2017 0:10</td>\n",
       "    </tr>\n",
       "  </tbody>\n",
       "</table>\n",
       "</div>"
      ],
      "text/plain": [
       "  Tank ID  Fuel_Level      Timestamp\n",
       "0    T 32       22327  1/1/2017 0:05\n",
       "1    T 20       25215  1/1/2017 0:07\n",
       "2    T 10       25700  1/1/2017 0:09\n",
       "3    T 11       25685  1/1/2017 0:10\n",
       "4    T 14       27138  1/1/2017 0:10"
      ]
     },
     "execution_count": 14,
     "metadata": {},
     "output_type": "execute_result"
    }
   ],
   "source": [
    "fuel_level_2_df.head()"
   ]
  },
  {
   "cell_type": "code",
   "execution_count": 15,
   "id": "f1228aaf-5394-419a-aa1e-54482edacfba",
   "metadata": {},
   "outputs": [
    {
     "data": {
      "text/plain": [
       "Tank ID       0\n",
       "Fuel_Level    0\n",
       "Timestamp     0\n",
       "dtype: int64"
      ]
     },
     "execution_count": 15,
     "metadata": {},
     "output_type": "execute_result"
    }
   ],
   "source": [
    "fuel_level_2_df.isna().sum()"
   ]
  }
 ],
 "metadata": {
  "kernelspec": {
   "display_name": "Python 3 (ipykernel)",
   "language": "python",
   "name": "python3"
  },
  "language_info": {
   "codemirror_mode": {
    "name": "ipython",
    "version": 3
   },
   "file_extension": ".py",
   "mimetype": "text/x-python",
   "name": "python",
   "nbconvert_exporter": "python",
   "pygments_lexer": "ipython3",
   "version": "3.9.13"
  }
 },
 "nbformat": 4,
 "nbformat_minor": 5
}
